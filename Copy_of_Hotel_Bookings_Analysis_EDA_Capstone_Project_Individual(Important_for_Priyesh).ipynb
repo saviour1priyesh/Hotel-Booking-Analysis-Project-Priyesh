{
  "nbformat": 4,
  "nbformat_minor": 0,
  "metadata": {
    "colab": {
      "private_outputs": true,
      "provenance": [],
      "collapsed_sections": [
        "gIfDvo9L0UH2"
      ],
      "include_colab_link": true
    },
    "kernelspec": {
      "name": "python3",
      "display_name": "Python 3"
    },
    "language_info": {
      "name": "python"
    },
    "gpuClass": "standard"
  },
  "cells": [
    {
      "cell_type": "markdown",
      "metadata": {
        "id": "view-in-github",
        "colab_type": "text"
      },
      "source": [
        "<a href=\"https://colab.research.google.com/github/saviour1priyesh/Hotel-Booking-Analysis-Project-Priyesh/blob/main/Copy_of_Hotel_Bookings_Analysis_EDA_Capstone_Project_Individual(Important_for_Priyesh).ipynb\" target=\"_parent\"><img src=\"https://colab.research.google.com/assets/colab-badge.svg\" alt=\"Open In Colab\"/></a>"
      ]
    },
    {
      "cell_type": "markdown",
      "source": [
        "# **Project Name**    - Hotel Bookings Analysis\n",
        "\n"
      ],
      "metadata": {
        "id": "vncDsAP0Gaoa"
      }
    },
    {
      "cell_type": "markdown",
      "source": [
        "##### **Project Type**    - EDA Capstone Project\n",
        "##### **Contribution**    - Individual\n",
        "##### **Team Member 1 -** Sri Rakesh Kumar\n"
      ],
      "metadata": {
        "id": "beRrZCGUAJYm"
      }
    },
    {
      "cell_type": "markdown",
      "source": [
        "# **Project Summary -**\n",
        "\n"
      ],
      "metadata": {
        "id": "FJNUwmbgGyua"
      }
    },
    {
      "cell_type": "markdown",
      "source": [
        "\n",
        "> Hotel Bookings Analysis project consists with the real - world data record of hotel bookings of a city hotel and a resort hotel for the period 2015 - 2017 respectively. The project data record consists of information such as type of hotel booked, average daily rate, booking details, arrival date, length of the stay, the number of adults, children, and / or babies booked, customer country, meal preferences, type of the customer, parking space details, reservation status, channels used for booking, booking cancellation details, booking lead time details, among other details. Data analysis and data visualization will be performed using Python libraries.\n",
        "\n",
        "> I started the Hotel Bookings Analysis project, with the main aim to analyse the data and explore the key factors that govern the hotel bookings. In this project, I have downloaded the given dataset of hotel bookings (CSV file) to use it as a pandas dataframe using pandas library of Python. I have came to know more details about the datset by using df.info() method. I have checked the number of data types in the dataset using value_counts() method. If any column of the dataset has highest missing values, the respective coulmn should be removed using drop() method. I have performed data wrangling using value_counts() method and sort_values() method to sort the accordingly. Fianlly, the Vizualization is done in a structured way while following the \"UBM\"\n",
        "U - Univariate Analysis, B - Bivariate Analysis (Numerical - Categorical, Numerical - Numerical, Categorical - Categorical), and M - Multivariate Analysis, Correlation Analysis and visualize the same using matplotlib and seaborn libraries respectively.\n",
        "\n",
        "\n",
        "\n"
      ],
      "metadata": {
        "id": "F6v_1wHtG2nS"
      }
    },
    {
      "cell_type": "markdown",
      "source": [
        "# **GitHub Link -**"
      ],
      "metadata": {
        "id": "w6K7xa23Elo4"
      }
    },
    {
      "cell_type": "markdown",
      "source": [
        "https://github.com/Sri3008/Hotel-Bookings-Analysis-EDA-Project"
      ],
      "metadata": {
        "id": "h1o69JH3Eqqn"
      }
    },
    {
      "cell_type": "markdown",
      "source": [
        "# **Problem Statement**\n"
      ],
      "metadata": {
        "id": "yQaldy8SH6Dl"
      }
    },
    {
      "cell_type": "markdown",
      "source": [
        "\n",
        "The hotel bookings analysis project has information about the number of adults, children, and / or babies, booking cancellation details, the length of the stay, distribution channel details, among other details. To perform data analysis and visualization to explore the key factors that govern the hotel bookings."
      ],
      "metadata": {
        "id": "DpeJGUA3kjGy"
      }
    },
    {
      "cell_type": "markdown",
      "source": [
        "#### **Define Your Business Objective?**"
      ],
      "metadata": {
        "id": "PH-0ReGfmX4f"
      }
    },
    {
      "cell_type": "markdown",
      "source": [
        "> The main objectives of this project is to explore the key factors driving the hotel bookings such as :\n",
        "\n",
        "*   To know which hotel is making more revenue.\n",
        "*   To identify most common customer type.\n",
        "*   To find the most preferred length of stay in each hotel.\n",
        "*   To understand the peak season.\n",
        "*   To know the most preferred meal type by customers.\n",
        "*   To find the pecentage of bookings in each hotel.\n",
        "*   To identify which hotel has highest bookings cancellation percentage.\n",
        "*   To find which country customers have highest bookings.\n",
        "*   To know average ADR for each hotel.\n",
        "*   To identify which room type is in most demand and which room type generate the highest adr.\n",
        "*   To know the most preferred distribution channel for bookings.\n",
        "*   To know which distribution channel has the highest cancellation percentage.\n",
        "*   To identify which types of customers make the most bookings.\n",
        "\n"
      ],
      "metadata": {
        "id": "PhDvGCAqmjP1"
      }
    },
    {
      "cell_type": "markdown",
      "source": [
        "# **General Guidelines** : -  "
      ],
      "metadata": {
        "id": "mDgbUHAGgjLW"
      }
    },
    {
      "cell_type": "markdown",
      "source": [
        "1.   Well-structured, formatted, and commented code is required.\n",
        "2.   Exception Handling, Production Grade Code & Deployment Ready Code will be a plus. Those students will be awarded some additional credits.\n",
        "     \n",
        "     The additional credits will have advantages over other students during Star Student selection.\n",
        "       \n",
        "             [ Note: - Deployment Ready Code is defined as, the whole .ipynb notebook should be executable in one go\n",
        "                       without a single error logged. ]\n",
        "\n",
        "3.   Each and every logic should have proper comments.\n",
        "4. You may add as many number of charts you want. Make Sure for each and every chart the following format should be answered.\n",
        "        \n",
        "\n",
        "```\n",
        "# Chart visualization code\n",
        "```\n",
        "            \n",
        "\n",
        "*   Why did you pick the specific chart?\n",
        "*   What is/are the insight(s) found from the chart?\n",
        "* Will the gained insights help creating a positive business impact?\n",
        "Are there any insights that lead to negative growth? Justify with specific reason.\n",
        "\n",
        "5. You have to create at least 20 logical & meaningful charts having important insights.\n",
        "\n",
        "\n",
        "[ Hints : - Do the Vizualization in  a structured way while following \"UBM\" Rule.\n",
        "\n",
        "U - Univariate Analysis,\n",
        "\n",
        "B - Bivariate Analysis (Numerical - Categorical, Numerical - Numerical, Categorical - Categorical)\n",
        "\n",
        "M - Multivariate Analysis\n",
        " ]\n",
        "\n",
        "\n",
        "\n"
      ],
      "metadata": {
        "id": "ZrxVaUj-hHfC"
      }
    },
    {
      "cell_type": "markdown",
      "source": [
        "# ***Let's Begin !***"
      ],
      "metadata": {
        "id": "O_i_v8NEhb9l"
      }
    },
    {
      "cell_type": "markdown",
      "source": [
        "## ***1. Know Your Data***"
      ],
      "metadata": {
        "id": "HhfV-JJviCcP"
      }
    },
    {
      "cell_type": "markdown",
      "source": [
        "### Import Libraries"
      ],
      "metadata": {
        "id": "Y3lxredqlCYt"
      }
    },
    {
      "cell_type": "code",
      "source": [
        "# Import Libraries\n",
        "import numpy as np\n",
        "import pandas as pd\n",
        "import matplotlib\n",
        "import matplotlib.pyplot as plt\n",
        "%matplotlib inline\n",
        "import seaborn as sns"
      ],
      "metadata": {
        "id": "M8Vqi-pPk-HR"
      },
      "execution_count": null,
      "outputs": []
    },
    {
      "cell_type": "markdown",
      "source": [
        "### Dataset Loading"
      ],
      "metadata": {
        "id": "3RnN4peoiCZX"
      }
    },
    {
      "cell_type": "code",
      "source": [
        "# Load Dataset\n",
        "from google.colab import drive\n",
        "drive.mount('/content/drive')"
      ],
      "metadata": {
        "id": "4CkvbW_SlZ_R"
      },
      "execution_count": null,
      "outputs": []
    },
    {
      "cell_type": "markdown",
      "source": [
        "### Dataset First View"
      ],
      "metadata": {
        "id": "x71ZqKXriCWQ"
      }
    },
    {
      "cell_type": "code",
      "source": [
        "# Dataset First Look\n",
        "file_path = '/content/drive/MyDrive/Hotel Bookings.csv'\n",
        "df = pd.read_csv(file_path)"
      ],
      "metadata": {
        "id": "LWNFOSvLl09H"
      },
      "execution_count": null,
      "outputs": []
    },
    {
      "cell_type": "markdown",
      "source": [
        "### Dataset Rows & Columns count"
      ],
      "metadata": {
        "id": "7hBIi_osiCS2"
      }
    },
    {
      "cell_type": "code",
      "source": [
        "# Dataset Rows & Columns count\n",
        "row, column = df.shape\n",
        "print('Total Rows in Dataset :', row)\n",
        "print('Total Columns in Dataset :', column)"
      ],
      "metadata": {
        "id": "Kllu7SJgmLij"
      },
      "execution_count": null,
      "outputs": []
    },
    {
      "cell_type": "markdown",
      "source": [
        "### Dataset Information"
      ],
      "metadata": {
        "id": "JlHwYmJAmNHm"
      }
    },
    {
      "cell_type": "code",
      "source": [
        "# Dataset Info\n",
        "df.info()"
      ],
      "metadata": {
        "id": "e9hRXRi6meOf"
      },
      "execution_count": null,
      "outputs": []
    },
    {
      "cell_type": "code",
      "source": [
        "# Understanding the data\n",
        "df.describe()"
      ],
      "metadata": {
        "id": "65PlloLye6e8"
      },
      "execution_count": null,
      "outputs": []
    },
    {
      "cell_type": "code",
      "source": [
        "# We create a copy of the dataframe\n",
        "df1 = df.copy()"
      ],
      "metadata": {
        "id": "0C_D5uqLfYOX"
      },
      "execution_count": null,
      "outputs": []
    },
    {
      "cell_type": "code",
      "source": [
        "# We will try to understand the meaning of all columns of the dataframe & we will check unique values.\n",
        "df1['hotel'].unique()"
      ],
      "metadata": {
        "id": "sjRJXcOlgB30"
      },
      "execution_count": null,
      "outputs": []
    },
    {
      "cell_type": "code",
      "source": [
        "df1['is_canceled'].unique()"
      ],
      "metadata": {
        "id": "wEueA3wdghBC"
      },
      "execution_count": null,
      "outputs": []
    },
    {
      "cell_type": "code",
      "source": [
        "df1['lead_time'].unique()"
      ],
      "metadata": {
        "id": "DencBlLwhAXf"
      },
      "execution_count": null,
      "outputs": []
    },
    {
      "cell_type": "code",
      "source": [
        "df1['arrival_date_year'].unique()"
      ],
      "metadata": {
        "id": "4pApDJF5goAv"
      },
      "execution_count": null,
      "outputs": []
    },
    {
      "cell_type": "code",
      "source": [
        "df1['arrival_date_month'].unique()"
      ],
      "metadata": {
        "id": "fmXD-rpzgyuH"
      },
      "execution_count": null,
      "outputs": []
    },
    {
      "cell_type": "code",
      "source": [
        "df1['stays_in_weekend_nights'].unique()"
      ],
      "metadata": {
        "id": "_1etLfXthPUq"
      },
      "execution_count": null,
      "outputs": []
    },
    {
      "cell_type": "code",
      "source": [
        "df1['stays_in_week_nights'].unique()"
      ],
      "metadata": {
        "id": "t6rAEf8RhPKH"
      },
      "execution_count": null,
      "outputs": []
    },
    {
      "cell_type": "code",
      "source": [
        "df1['meal'].unique()"
      ],
      "metadata": {
        "id": "DKZJjsWMhO8G"
      },
      "execution_count": null,
      "outputs": []
    },
    {
      "cell_type": "code",
      "source": [
        "df1['country'].unique()"
      ],
      "metadata": {
        "id": "jQI3iH0WhOu0"
      },
      "execution_count": null,
      "outputs": []
    },
    {
      "cell_type": "code",
      "source": [
        "df1['market_segment'].unique()"
      ],
      "metadata": {
        "id": "4yeCpyXJhObk"
      },
      "execution_count": null,
      "outputs": []
    },
    {
      "cell_type": "code",
      "source": [
        "df1['distribution_channel'].unique()"
      ],
      "metadata": {
        "id": "kq4zyjDIhmT9"
      },
      "execution_count": null,
      "outputs": []
    },
    {
      "cell_type": "code",
      "source": [
        "df1['is_repeated_guest'].unique()"
      ],
      "metadata": {
        "id": "1jKToty5hmJ_"
      },
      "execution_count": null,
      "outputs": []
    },
    {
      "cell_type": "code",
      "source": [
        "df1['deposit_type'].unique()"
      ],
      "metadata": {
        "id": "HlX43Rl7h1c4"
      },
      "execution_count": null,
      "outputs": []
    },
    {
      "cell_type": "code",
      "source": [
        "df1['customer_type'].unique()"
      ],
      "metadata": {
        "id": "gRt2i2Jlh1Tz"
      },
      "execution_count": null,
      "outputs": []
    },
    {
      "cell_type": "code",
      "source": [
        "df1['reservation_status'].unique()"
      ],
      "metadata": {
        "id": "4dv2RdUIie_y"
      },
      "execution_count": null,
      "outputs": []
    },
    {
      "cell_type": "markdown",
      "source": [
        "#### Duplicate Values"
      ],
      "metadata": {
        "id": "35m5QtbWiB9F"
      }
    },
    {
      "cell_type": "code",
      "source": [
        "# Dataset Duplicate Value Count\n",
        "df1[df1.duplicated()].shape"
      ],
      "metadata": {
        "id": "1sLdpKYkmox0"
      },
      "execution_count": null,
      "outputs": []
    },
    {
      "cell_type": "code",
      "source": [
        "# Dropping Duplicate values\n",
        "df1.drop_duplicates(inplace = True)"
      ],
      "metadata": {
        "id": "bYEr9vQIjBAZ"
      },
      "execution_count": null,
      "outputs": []
    },
    {
      "cell_type": "code",
      "source": [
        "# Dataset without duplicate value count\n",
        "df1.shape"
      ],
      "metadata": {
        "id": "TrI1VjUqjAxZ"
      },
      "execution_count": null,
      "outputs": []
    },
    {
      "cell_type": "markdown",
      "source": [
        "#### Missing Values/Null Values"
      ],
      "metadata": {
        "id": "PoPl-ycgm1ru"
      }
    },
    {
      "cell_type": "code",
      "source": [
        "# Missing Values/Null Values Count\n",
        "df1.isnull().sum().sort_values(ascending = False)[:5]"
      ],
      "metadata": {
        "id": "GgHWkxvamxVg"
      },
      "execution_count": null,
      "outputs": []
    },
    {
      "cell_type": "code",
      "source": [
        "# Replacing Null values with zero\n",
        "df1[['company', 'agent']] = df1[['company', 'agent']].fillna(0)"
      ],
      "metadata": {
        "id": "QMWblfchkown"
      },
      "execution_count": null,
      "outputs": []
    },
    {
      "cell_type": "code",
      "source": [
        "df1['children'].unique()"
      ],
      "metadata": {
        "id": "c19rNvzwlG1a"
      },
      "execution_count": null,
      "outputs": []
    },
    {
      "cell_type": "code",
      "source": [
        "# Replacing Null values of children column with mean value\n",
        "df1['children'].fillna(df1['children'].mean(), inplace = True)"
      ],
      "metadata": {
        "id": "u-68JX1plGqr"
      },
      "execution_count": null,
      "outputs": []
    },
    {
      "cell_type": "code",
      "source": [
        "# Replacing missing values in country with mode value as the column contains string datatype\n",
        "df1['country'].fillna('others',inplace = True)"
      ],
      "metadata": {
        "id": "MGt-Ma2clGgq"
      },
      "execution_count": null,
      "outputs": []
    },
    {
      "cell_type": "code",
      "source": [
        "# Visualizing after removal of Null values\n",
        "df1.isnull().sum().sort_values(ascending = False)[:10]"
      ],
      "metadata": {
        "id": "ODY0afHPmWtj"
      },
      "execution_count": null,
      "outputs": []
    },
    {
      "cell_type": "code",
      "source": [
        "# Still there are some rows with zero in the columns of total number of adults, children andbabies, we will remove them\n",
        "df1[df1['adults'] + df1['children'] + df1['babies'] == 0].shape"
      ],
      "metadata": {
        "id": "YLiAlkRjm5p-"
      },
      "execution_count": null,
      "outputs": []
    },
    {
      "cell_type": "code",
      "source": [
        "# Dropping all remaining null values\n",
        "df1.drop(df1[df1['adults'] + df1['children'] + df1['babies'] == 0].index, inplace = True)"
      ],
      "metadata": {
        "id": "1z9DuYOqm3yv"
      },
      "execution_count": null,
      "outputs": []
    },
    {
      "cell_type": "markdown",
      "source": [
        "### What did you know about your dataset?"
      ],
      "metadata": {
        "id": "H0kj-8xxnORC"
      }
    },
    {
      "cell_type": "markdown",
      "source": [
        "> Hotel Bookings Analysis has 32 different variables (Continuous & Categorical) in the columns and grouping them into 7 gropus as follows:\n",
        "\n",
        "*   Guest Demographics : country, adults, children, babies.\n",
        "*   Arrival Information : arrival_date_year, arrival_date_month, arrival_date_week_number, arrival_date_day_of_month.\n",
        "*   Reservation Status : reservation_status, reservation_status_date, is_canceled, lead_time, days_in_waiting_list.\n",
        "*   User Actions : is_repeated_guest, previous_cancellations, previous_bookings_not_canceled.\n",
        "*   Accommodation Details : stays_in_weekend_nights, stays_in_week_nights, reserved_room_type, assigned_room_type, meals, required_car_parking_spaces, total_of_special_requests.\n",
        "*   Booking Information : \thotel, market_segment, distribution_channel, booking_changes, deposit_type, agent, company, customer_type.\n",
        "*   Average Daily Rate : adr.\n",
        "\n"
      ],
      "metadata": {
        "id": "gfoNAAC-nUe_"
      }
    },
    {
      "cell_type": "markdown",
      "source": [
        "## ***2. Understanding Your Variables***"
      ],
      "metadata": {
        "id": "nA9Y7ga8ng1Z"
      }
    },
    {
      "cell_type": "code",
      "source": [
        "# Dataset Columns\n",
        "df1.columns"
      ],
      "metadata": {
        "id": "j7xfkqrt5Ag5"
      },
      "execution_count": null,
      "outputs": []
    },
    {
      "cell_type": "code",
      "source": [
        "# Dataset Describe\n",
        "df1.describe()"
      ],
      "metadata": {
        "id": "DnOaZdaE5Q5t"
      },
      "execution_count": null,
      "outputs": []
    },
    {
      "cell_type": "markdown",
      "source": [
        "### Variables Description"
      ],
      "metadata": {
        "id": "PBTbrJXOngz2"
      }
    },
    {
      "cell_type": "markdown",
      "source": [
        "> Describing each variable in detail :\n",
        "\n",
        "*   hotel : This variable describes the category of the hotels, they are City Hotel & Resort Hotel.\n",
        "*   is_canceled : The column shows cancellation details, 0 indicates booking not cancelled & 1 indicates booking is cancelled.\n",
        "*   lead_time : This column defines the time between reservation & actual arrival.\n",
        "*   arrival_date_year : This variable shows the arrival year of the customer namely 2015, 2016 or 2017.\n",
        "*   arrival_date_month : This variable shows the arrival month of the customer in between January to December.\n",
        "*   arrival_date_week_number : This column shows the arrival week of the customer.\n",
        "*  arrival_date_day_of_month : This variable indicates the arrival date of the customer in the respective month & year.\n",
        "*   stays_in_weekend_nights :\tThis variable indicates the number of weekend nights (Saturday or Sunday) the guest stayed or booked to stay at the respective hotel.\n",
        "*   stays_in_week_nights : This column shows number of week nights (Monday to Friday) the guest stayed or booked to stay at the respective hotel.\n",
        "*   adults : This variable shows the number of adults present with the customer.\n",
        "*   children : This column shows the number of children present with the customer.\n",
        "*   babies : This variable shows the number of babies present with the customer.\n",
        "*   meal : This column shows the type of meal booked by the customer. Namely - *BB* - Bread & Breakfast, only breakfast is booked, *FB* - Full Board, in which breakfast, lunch & dinner are included, *HB* - Half Board, in which breakfast & dinner are included, *SC* - Self Catering, no meals are included.\n",
        "*   country : This column shows the origin country of customers.\n",
        "*   market_segment : \tThis column shows the designation of the customers, namely - Aviation, Direct, Corporate, Complementary, Groups, Offline TA/TO, Online TO.\n",
        "*   distribution_channel : \tBooking distribution channel like direct, corporate, TA/TO, GDS.\n",
        "*   is_repeated_guest : This variable shows the value indicating if the booking name was from a repeated guest. *0* - is not repeated guest & *1*-repeated guest.\n",
        "*   previous_cancellations : \tThis column shows the number of previous bookings that were cancelled by the customer prior to the current booking.\n",
        "*   previous_bookings_not_canceled : This variable shows the number of previous bookings not cancelled by the customer prior to the current booking.\n",
        "*   reserved_room_type : This variable indicates the room reserved by the customer.\n",
        "*   assigned_room_type : This variable shows the assigned room to the customer.\n",
        "*   booking_changes : This column shows the number of changes made to the booking.\n",
        "*   deposit_type : This variable indicates if the customer made a deposit to guarantee the booking. 3 categories: *No Deposit* – no deposit was made; *Non Refund* – a deposit was made in the value of the total stay cost; *Refundable* – a deposit was made with a value under the total cost of stay.\n",
        "*   agent : This column shows the id of the booking agent.\n",
        "*   company : This variable indicates the id of the company making a booking.\n",
        "*   days_in_waiting_list : This column depicts the number of days the booking was in the waiting list before it was confirmed to the customer.\n",
        "*   customer_type : This variable shows 4 types of customers, namely - *Contract* - when the booking has an allotment or other type of contract associated to it; *Group* – when the booking is associated to a group; *Transient* – when the booking is not part of a group or contract, and is not associated to other transient booking; *Transient-party* – when the booking is transient, but is associated to at least other transient booking\n",
        "*   adr : This variable shows the Average Daily Rate as defined by dividing the sum of all lodging transactions by the total number of staying nights.\n",
        "*   required_car_parking_spaces : This column indicates the number of car parking spaces required by the customer.\n",
        "*   total_of_special_requests : This variable shows the number of special requests made by the customer (e.g. twin bed, high floor).\n",
        "*   reservation_status : This column shows the reservation status of the customer whether the customer has checked-in or cancelled or not shown.\n",
        "*   reservation_status_date : This variable indicates date of making reservation status."
      ],
      "metadata": {
        "id": "aJV4KIxSnxay"
      }
    },
    {
      "cell_type": "markdown",
      "source": [
        "### Check Unique Values for each variable."
      ],
      "metadata": {
        "id": "u3PMJOP6ngxN"
      }
    },
    {
      "cell_type": "code",
      "source": [
        "# Check Unique Values for each variable.\n",
        "n = df1.nunique()\n",
        "print('Number of unique values for each variable : \\n', n)"
      ],
      "metadata": {
        "id": "zms12Yq5n-jE"
      },
      "execution_count": null,
      "outputs": []
    },
    {
      "cell_type": "markdown",
      "source": [
        "## 3. ***Data Wrangling***"
      ],
      "metadata": {
        "id": "dauF4eBmngu3"
      }
    },
    {
      "cell_type": "markdown",
      "source": [
        "### Data Wrangling Code"
      ],
      "metadata": {
        "id": "bKJF3rekwFvQ"
      }
    },
    {
      "cell_type": "code",
      "source": [
        "# Write your code to make your dataset analysis ready."
      ],
      "metadata": {
        "id": "kGcKXejKWAjZ"
      },
      "execution_count": null,
      "outputs": []
    },
    {
      "cell_type": "code",
      "source": [
        "# In order to handle the NaN values, we convert datatypes of columns 'agent', 'children', 'company' from Float to Int datatype\n",
        "df1[['children', 'company', 'agent']] = df1[['children', 'company', 'agent']].astype('int64')"
      ],
      "metadata": {
        "id": "o8bygDt8roQF"
      },
      "execution_count": null,
      "outputs": []
    },
    {
      "cell_type": "code",
      "source": [
        "# Changing the datatype of 'reservation_status_date' to datatype of year-month-date\n",
        "df1['reservation_status_date'] = pd.to_datetime(df1['reservation_status_date'], format = '%Y-%m-%d')"
      ],
      "metadata": {
        "id": "lRFRQYA8ssav"
      },
      "execution_count": null,
      "outputs": []
    },
    {
      "cell_type": "code",
      "source": [
        "# Adding 'stays_in_weekend_nights' & 'stays_in_week_nights' to get total stay duration\n",
        "df1['total_stay'] = df1['stays_in_weekend_nights'] + df1['stays_in_week_nights']"
      ],
      "metadata": {
        "id": "eZEMJhpLtjqS"
      },
      "execution_count": null,
      "outputs": []
    },
    {
      "cell_type": "code",
      "source": [
        "# Adding 'adults', 'children' & 'babies' to get total people\n",
        "df1['total_people'] = df1['adults'] + df1['children'] + df1['babies']"
      ],
      "metadata": {
        "id": "R_kN4De5uQts"
      },
      "execution_count": null,
      "outputs": []
    },
    {
      "cell_type": "code",
      "source": [
        "# To identify most common customer type.\n",
        "df.customer_type.value_counts(normalize = True) * 100"
      ],
      "metadata": {
        "id": "0eBiTLqtlBz9"
      },
      "execution_count": null,
      "outputs": []
    },
    {
      "cell_type": "code",
      "source": [
        "# To understand the peak season.\n",
        "df.arrival_date_month.value_counts(normalize = True) * 100"
      ],
      "metadata": {
        "id": "X2TmToPKWCU1"
      },
      "execution_count": null,
      "outputs": []
    },
    {
      "cell_type": "code",
      "source": [
        "# To know the most preferred meal type by customers.\n",
        "preferred_meal_type = df['meal'].value_counts().sort_values(ascending = False)\n",
        "preferred_meal_type"
      ],
      "metadata": {
        "id": "PHz5AyzZWCRC"
      },
      "execution_count": null,
      "outputs": []
    },
    {
      "cell_type": "code",
      "source": [
        "# To find the pecentage of bookings in each hotel.\n",
        "(df.groupby('hotel').size() / df['hotel'].count()) * 100"
      ],
      "metadata": {
        "id": "F70vLKkuWCMF"
      },
      "execution_count": null,
      "outputs": []
    },
    {
      "cell_type": "code",
      "source": [
        "# To identify which hotel has highest bookings cancellation percentage.\n",
        "cancel = df[df['is_canceled'] == 1]\n",
        "cancel_grp = cancel.groupby('hotel')\n",
        "x1 = pd.DataFrame(cancel_grp.size()).rename(columns = {0:'total_cancelled_bookings'})\n",
        "grouped_by_hotel = df.groupby('hotel')\n",
        "total_booking = grouped_by_hotel.size()\n",
        "x2 = pd.DataFrame(total_booking).rename(columns = {0: 'total_bookings'})\n",
        "x3 = pd.concat([x1,x2], axis = 1)\n",
        "x3['cancel_%'] = round((x3['total_cancelled_bookings'] / x3['total_bookings']) * 100,2)\n",
        "x3"
      ],
      "metadata": {
        "id": "ZPAwyES4WCIE"
      },
      "execution_count": null,
      "outputs": []
    },
    {
      "cell_type": "code",
      "source": [
        "# To find which country customers have highest bookings.\n",
        "country_visitors = df['country'].value_counts().sort_values(ascending = False)\n",
        "country_visitors"
      ],
      "metadata": {
        "id": "qO3X_pDLWCDw"
      },
      "execution_count": null,
      "outputs": []
    },
    {
      "cell_type": "code",
      "source": [
        "# To know average ADR for each hotel.\n",
        "avg_adr = grouped_by_hotel['adr'].agg(np.mean).reset_index().rename(columns = {'adr':'avg_adr'})\n",
        "avg_adr"
      ],
      "metadata": {
        "id": "nurXcuwaWB_F"
      },
      "execution_count": null,
      "outputs": []
    },
    {
      "cell_type": "markdown",
      "source": [
        "### What all manipulations have you done and insights you found?"
      ],
      "metadata": {
        "id": "MSa1f5Uengrz"
      }
    },
    {
      "cell_type": "markdown",
      "source": [
        "* City Hotel has more bookings than the Resort Hotel, it implies that ADR for City Hotel is higher than Resort Hotel.\n",
        "* Most of the customers from Portugal made bookings to both of the hotels from 2015 to 2017.\n",
        "* City Hotel has highest bookings cancellation.\n",
        "* Customers who belong to the Transient category has made most bookings.\n",
        "* August is the peak season for both the hotels, followed by July.\n",
        "* Bread & Breakfast is the most preferred meal by the customers."
      ],
      "metadata": {
        "id": "LbyXE7I1olp8"
      }
    },
    {
      "cell_type": "markdown",
      "source": [
        "## ***4. Data Vizualization, Storytelling & Experimenting with charts : Understand the relationships between variables***"
      ],
      "metadata": {
        "id": "GF8Ens_Soomf"
      }
    },
    {
      "cell_type": "markdown",
      "source": [
        "#### Chart - 1"
      ],
      "metadata": {
        "id": "0wOQAZs5pc--"
      }
    },
    {
      "cell_type": "code",
      "source": [
        "# Chart - 1 visualization code\n",
        "# Univariate Analysis\n",
        "# To know the most preferred type of meal by customers\n",
        "plt.figure( figsize = (6, 7))\n",
        "sns.countplot(x = df1['meal'])\n",
        "plt.show()"
      ],
      "metadata": {
        "id": "7v_ESjsspbW7"
      },
      "execution_count": null,
      "outputs": []
    },
    {
      "cell_type": "markdown",
      "source": [
        "##### 1. Why did you pick the specific chart?"
      ],
      "metadata": {
        "id": "K5QZ13OEpz2H"
      }
    },
    {
      "cell_type": "markdown",
      "source": [
        "As it is Univariate analysis, which is to identify from one variable or one column. we have choosed bar graph."
      ],
      "metadata": {
        "id": "XESiWehPqBRc"
      }
    },
    {
      "cell_type": "markdown",
      "source": [
        "##### 2. What is/are the insight(s) found from the chart?"
      ],
      "metadata": {
        "id": "lQ7QKXXCp7Bj"
      }
    },
    {
      "cell_type": "markdown",
      "source": [
        "Bread & Breakfast (BB) is the most preferred meal by the customers."
      ],
      "metadata": {
        "id": "C_j1G7yiqdRP"
      }
    },
    {
      "cell_type": "markdown",
      "source": [
        "##### 3. Will the gained insights help creating a positive business impact?\n",
        "Are there any insights that lead to negative growth? Justify with specific reason."
      ],
      "metadata": {
        "id": "448CDAPjqfQr"
      }
    },
    {
      "cell_type": "markdown",
      "source": [
        "As most customers prefer Bread & Breakfast (BB), the hotel management can introduce offers on Full Board (FB) meal, which can increase revenue as well."
      ],
      "metadata": {
        "id": "3cspy4FjqxJW"
      }
    },
    {
      "cell_type": "markdown",
      "source": [
        "#### Chart - 2"
      ],
      "metadata": {
        "id": "KSlN3yHqYklG"
      }
    },
    {
      "cell_type": "code",
      "source": [
        "# Chart - 2 visualization code\n",
        "# Univariate Analysis\n",
        "# Percentage of bookings in each hotel\n",
        "plt.rcParams['figure.figsize'] = 6,6\n",
        "labels = df1['hotel'].value_counts().index.tolist()\n",
        "sizes = df1['hotel'].value_counts().tolist()\n",
        "explode = (0, 0.08)\n",
        "colors = ['#66b3ff', '#ff9999']\n",
        "plt.pie(sizes, explode=explode, labels=labels, colors=colors, autopct='%1.1f%%',startangle=90, textprops={'fontsize': 14})"
      ],
      "metadata": {
        "id": "R4YgtaqtYklH"
      },
      "execution_count": null,
      "outputs": []
    },
    {
      "cell_type": "markdown",
      "source": [
        "##### 1. Why did you pick the specific chart?"
      ],
      "metadata": {
        "id": "t6dVpIINYklI"
      }
    },
    {
      "cell_type": "markdown",
      "source": [
        "As this is a Univariate Analysis, we compare the data from one variable or one column 'hotel', so we have considered pie chart."
      ],
      "metadata": {
        "id": "5aaW0BYyYklI"
      }
    },
    {
      "cell_type": "markdown",
      "source": [
        "##### 2. What is/are the insight(s) found from the chart?"
      ],
      "metadata": {
        "id": "ijmpgYnKYklI"
      }
    },
    {
      "cell_type": "markdown",
      "source": [
        "From the above pie chart, we can depict that City Hotel has more bookings than the Resort Hotel."
      ],
      "metadata": {
        "id": "PSx9atu2YklI"
      }
    },
    {
      "cell_type": "markdown",
      "source": [
        "##### 3. Will the gained insights help creating a positive business impact?\n",
        "Are there any insights that lead to negative growth? Justify with specific reason."
      ],
      "metadata": {
        "id": "-JiQyfWJYklI"
      }
    },
    {
      "cell_type": "markdown",
      "source": [
        "From the above pie chart, 60% bookings are done for City Hotel whereas 40% are for Resort Hotel. The Resort Hotel management may consider to offer complimentary meals and combo packages (adventure packages, gift coupons, tourism packages) to attract more customers and to increase hotel bookings."
      ],
      "metadata": {
        "id": "BcBbebzrYklV"
      }
    },
    {
      "cell_type": "markdown",
      "source": [
        "#### Chart - 3"
      ],
      "metadata": {
        "id": "EM7whBJCYoAo"
      }
    },
    {
      "cell_type": "code",
      "source": [
        "# Chart - 3 visualization code\n",
        "# Bivariate Analysis\n",
        "# To know which hotel is making more revenue\n",
        "d3 = grouped_by_hotel['adr'].agg(np.mean).reset_index().rename(columns = {'adr':'avg_adr'})\n",
        "plt.figure(figsize = (4,8))\n",
        "sns.barplot(x = d3['hotel'], y = d3['avg_adr'] )\n",
        "plt.show()"
      ],
      "metadata": {
        "id": "t6GMdE67YoAp"
      },
      "execution_count": null,
      "outputs": []
    },
    {
      "cell_type": "markdown",
      "source": [
        "##### 1. Why did you pick the specific chart?"
      ],
      "metadata": {
        "id": "fge-S5ZAYoAp"
      }
    },
    {
      "cell_type": "markdown",
      "source": [
        "As we are analysing hotel and adr variables, to know which hotel is making more revenue, we have choosed bar graph."
      ],
      "metadata": {
        "id": "5dBItgRVYoAp"
      }
    },
    {
      "cell_type": "markdown",
      "source": [
        "##### 2. What is/are the insight(s) found from the chart?"
      ],
      "metadata": {
        "id": "85gYPyotYoAp"
      }
    },
    {
      "cell_type": "markdown",
      "source": [
        "City Hotel is making more revenue than the Resort Hotel, which can be depicted as the City Hotel has significantly more bookings than the Resort Hotel."
      ],
      "metadata": {
        "id": "4jstXR6OYoAp"
      }
    },
    {
      "cell_type": "markdown",
      "source": [
        "##### 3. Will the gained insights help creating a positive business impact?\n",
        "Are there any insights that lead to negative growth? Justify with specific reason."
      ],
      "metadata": {
        "id": "RoGjAbkUYoAp"
      }
    },
    {
      "cell_type": "markdown",
      "source": [
        "From the above bar graph, City Hotel is making more revenue than the Resort Hotel. The Resort Hotel management may consider to give complimentary meals and combo packages (adventure packages, tourism packages) to attract more customers and to increase hotel bookings, which increases revenue to the hotel."
      ],
      "metadata": {
        "id": "zfJ8IqMcYoAp"
      }
    },
    {
      "cell_type": "markdown",
      "source": [
        "#### Chart - 4"
      ],
      "metadata": {
        "id": "4Of9eVA-YrdM"
      }
    },
    {
      "cell_type": "code",
      "source": [
        "# Chart - 4 visualization code\n",
        "# Bivariate Analysis\n",
        "# To find the most preferred length of stay in each hotel\n",
        "not_canceled = df1[df1['is_canceled'] == 0]\n",
        "s1 = not_canceled[not_canceled['total_stay'] < 15]\n",
        "plt.figure(figsize = (9,7))\n",
        "sns.countplot(x = s1['total_stay'], hue = s1['hotel'])\n",
        "plt.show()"
      ],
      "metadata": {
        "id": "irlUoxc8YrdO"
      },
      "execution_count": null,
      "outputs": []
    },
    {
      "cell_type": "markdown",
      "source": [
        "##### 1. Why did you pick the specific chart?"
      ],
      "metadata": {
        "id": "iky9q4vBYrdO"
      }
    },
    {
      "cell_type": "markdown",
      "source": [
        "As this analysis is a Bivariate Analysis, we considered bar graph in order to visualize the most preferred stay in each hotel respectively."
      ],
      "metadata": {
        "id": "aJRCwT6DYrdO"
      }
    },
    {
      "cell_type": "markdown",
      "source": [
        "##### 2. What is/are the insight(s) found from the chart?"
      ],
      "metadata": {
        "id": "F6T5p64dYrdO"
      }
    },
    {
      "cell_type": "markdown",
      "source": [
        "From the above bar graph, we can see that most preferred stay is 3 days. Most of the customers prefer City Hotel for shorter stay and Resort Hotel for longer stays."
      ],
      "metadata": {
        "id": "Xx8WAJvtYrdO"
      }
    },
    {
      "cell_type": "markdown",
      "source": [
        "##### 3. Will the gained insights help creating a positive business impact?\n",
        "Are there any insights that lead to negative growth? Justify with specific reason."
      ],
      "metadata": {
        "id": "y-Ehk30pYrdP"
      }
    },
    {
      "cell_type": "markdown",
      "source": [
        "As customers are preferring Resort Hotel for longer stay, hotel management can introduce free gift coupons, loyalty service, complimentary services and combo tourism packages for nearby places in order to make customers redundent, which will increase revenue as well."
      ],
      "metadata": {
        "id": "jLNxxz7MYrdP"
      }
    },
    {
      "cell_type": "markdown",
      "source": [
        "#### Chart - 5"
      ],
      "metadata": {
        "id": "bamQiAODYuh1"
      }
    },
    {
      "cell_type": "code",
      "source": [
        "# Chart - 5 visualization code\n",
        "# Univariate Analysis\n",
        "# To know the most preferred distribution channel for bookings\n",
        "dc = df1.groupby('distribution_channel')\n",
        "d1 = pd.DataFrame(round((dc.size() / df1.shape[0]) * 100,2)).reset_index().rename(columns = {0: 'Booking_%'})\n",
        "plt.figure(figsize = (6,9))\n",
        "data = d1['Booking_%']\n",
        "labels = d1['distribution_channel']\n",
        "plt.pie(x = data, autopct = \"%.2f%%\", explode=[0.04] * 5, labels = labels, pctdistance = 0.8)\n",
        "plt.title(\"Distribution Channels Booking percentage\", fontsize = 15);"
      ],
      "metadata": {
        "id": "TIJwrbroYuh3"
      },
      "execution_count": null,
      "outputs": []
    },
    {
      "cell_type": "markdown",
      "source": [
        "##### 1. Why did you pick the specific chart?"
      ],
      "metadata": {
        "id": "QHF8YVU7Yuh3"
      }
    },
    {
      "cell_type": "markdown",
      "source": [
        "We are analysing the most preferred distribution channes for hotel bookings, which most of the customers used with the help of pie chart. As pie chart gives detailed information, we have choosen pie chart."
      ],
      "metadata": {
        "id": "dcxuIMRPYuh3"
      }
    },
    {
      "cell_type": "markdown",
      "source": [
        "##### 2. What is/are the insight(s) found from the chart?"
      ],
      "metadata": {
        "id": "GwzvFGzlYuh3"
      }
    },
    {
      "cell_type": "markdown",
      "source": [
        "Almost 80% of the customers has choosen Travel Agent / Tour Operator (TA/TO) for hotel booking, followed by direct bookings of 15%."
      ],
      "metadata": {
        "id": "uyqkiB8YYuh3"
      }
    },
    {
      "cell_type": "markdown",
      "source": [
        "##### 3. Will the gained insights help creating a positive business impact?\n",
        "Are there any insights that lead to negative growth? Justify with specific reason."
      ],
      "metadata": {
        "id": "qYpmQ266Yuh3"
      }
    },
    {
      "cell_type": "markdown",
      "source": [
        "The hotel management can offer discounts, complimentary services and offers on direct bookings as the hotel doesn’t pay commissions to third parties and maintains a direct relationship with the customer when a customer books the hotel directly."
      ],
      "metadata": {
        "id": "_WtzZ_hCYuh4"
      }
    },
    {
      "cell_type": "markdown",
      "source": [
        "#### Chart - 6"
      ],
      "metadata": {
        "id": "OH-pJp9IphqM"
      }
    },
    {
      "cell_type": "code",
      "source": [
        "# Chart - 6 visualization code\n",
        "# Univariate Analysis\n",
        "# To know which distribution channel has highest cancellation percentage\n",
        "d1 = pd.DataFrame((dc['is_canceled'].sum() / dc.size()) * 100).drop(index = 'Undefined').rename(columns = {0: 'Cancel_%'})\n",
        "plt.figure(figsize = (8,6))\n",
        "sns.barplot(x = d1.index, y = d1['Cancel_%'])\n",
        "plt.show()"
      ],
      "metadata": {
        "id": "kuRf4wtuphqN"
      },
      "execution_count": null,
      "outputs": []
    },
    {
      "cell_type": "markdown",
      "source": [
        "##### 1. Why did you pick the specific chart?"
      ],
      "metadata": {
        "id": "bbFf2-_FphqN"
      }
    },
    {
      "cell_type": "markdown",
      "source": [
        "We have choosen bar graph as we are using single variable to understand which distribution channel has highest bookingcancellation percentage."
      ],
      "metadata": {
        "id": "loh7H2nzphqN"
      }
    },
    {
      "cell_type": "markdown",
      "source": [
        "##### 2. What is/are the insight(s) found from the chart?"
      ],
      "metadata": {
        "id": "_ouA3fa0phqN"
      }
    },
    {
      "cell_type": "markdown",
      "source": [
        "Travel Agent / Tour Operator (TA/TO) has the highest booking cancellation percentage."
      ],
      "metadata": {
        "id": "VECbqPI7phqN"
      }
    },
    {
      "cell_type": "markdown",
      "source": [
        "##### 3. Will the gained insights help creating a positive business impact?\n",
        "Are there any insights that lead to negative growth? Justify with specific reason."
      ],
      "metadata": {
        "id": "Seke61FWphqN"
      }
    },
    {
      "cell_type": "markdown",
      "source": [
        "As TA/TO has highest number of booking cancellations of around 30%, the hotel management may introduce offers for direct bookings in order to reduce cancellations and increase direct bookings."
      ],
      "metadata": {
        "id": "DW4_bGpfphqN"
      }
    },
    {
      "cell_type": "markdown",
      "source": [
        "#### Chart - 7"
      ],
      "metadata": {
        "id": "PIIx-8_IphqN"
      }
    },
    {
      "cell_type": "code",
      "source": [
        "# Chart - 7 visualization code\n",
        "# Bivariate Analysis\n",
        "# To identify which room type is in most demand and which room type generate the highest adr.\n",
        "fig, axes = plt.subplots(1, 2, figsize = (20, 9))\n",
        "room = df1.groupby('assigned_room_type')\n",
        "d1['Num_of_bookings'] = room.size()\n",
        "sns.countplot(ax = axes[0], x = df1['assigned_room_type'])\n",
        "sns.boxplot(ax = axes[1], x = df1['assigned_room_type'], y = df1['adr'])\n",
        "plt.show()"
      ],
      "metadata": {
        "id": "lqAIGUfyphqO"
      },
      "execution_count": null,
      "outputs": []
    },
    {
      "cell_type": "markdown",
      "source": [
        "##### 1. Why did you pick the specific chart?"
      ],
      "metadata": {
        "id": "t27r6nlMphqO"
      }
    },
    {
      "cell_type": "markdown",
      "source": [
        "As we are performing Multivariate Analysis to identify which room type is in most demand and which room type generate the highest adr, we have choosed bar graph and boxplot to understand better."
      ],
      "metadata": {
        "id": "iv6ro40sphqO"
      }
    },
    {
      "cell_type": "markdown",
      "source": [
        "##### 2. What is/are the insight(s) found from the chart?"
      ],
      "metadata": {
        "id": "r2jJGEOYphqO"
      }
    },
    {
      "cell_type": "markdown",
      "source": [
        "From the above graphs, we ca identofy that roomtype A is the most demanded rooms by the customer while booking, whereas room types H,G,C are generating more adr respectively."
      ],
      "metadata": {
        "id": "Po6ZPi4hphqO"
      }
    },
    {
      "cell_type": "markdown",
      "source": [
        "##### 3. Will the gained insights help creating a positive business impact?\n",
        "Are there any insights that lead to negative growth? Justify with specific reason."
      ],
      "metadata": {
        "id": "b0JNsNcRphqO"
      }
    },
    {
      "cell_type": "markdown",
      "source": [
        "Hotel management sholud consider to increase room types A, H in order to ger more revenue and increase adr respectively."
      ],
      "metadata": {
        "id": "xvSq8iUTphqO"
      }
    },
    {
      "cell_type": "markdown",
      "source": [
        "#### Chart - 8 - Correlation Heatmap"
      ],
      "metadata": {
        "id": "NC_X3p0fY2L0"
      }
    },
    {
      "cell_type": "code",
      "source": [
        "# We added 'adults', 'children', 'babies' to get 'total_people', so we remove those columns\n",
        "# We added 'stay_in_weekends_nights' & 'stay_in_week_nights'to get 'total_stay', so we remove those columns\n",
        "# Columns 'is_cancelled', 'arrival_date_year', 'arrival_date_week_number', 'arrival_date_day_of_month', 'is_repeated_guest', 'company', 'agent' are categorical data having numerical type. There is no need to check for correlation.\n",
        "num_df1 = df1[['lead_time','previous_cancellations','previous_bookings_not_canceled','booking_changes','days_in_waiting_list','adr','required_car_parking_spaces','total_of_special_requests','total_stay','total_people']]"
      ],
      "metadata": {
        "id": "1Yx-XTq2w5DZ"
      },
      "execution_count": null,
      "outputs": []
    },
    {
      "cell_type": "code",
      "source": [
        "corrmat = num_df1.corr()\n",
        "f, ax = plt.subplots(figsize = (18,9))\n",
        "sns.heatmap(corrmat, annot = True, fmt='.2f', annot_kws =  {'size': 15}, vmax = .99, square = True)"
      ],
      "metadata": {
        "id": "D1qek9LBy_42"
      },
      "execution_count": null,
      "outputs": []
    },
    {
      "cell_type": "markdown",
      "source": [
        "##### 1. Why did you pick the specific chart?"
      ],
      "metadata": {
        "id": "UV0SzAkaZNRQ"
      }
    },
    {
      "cell_type": "markdown",
      "source": [
        "In this analysis, we have performed correlation heatmap to understand correlation on variables. Correlation analysis computes the level of change in one variable due to the change in the other."
      ],
      "metadata": {
        "id": "DVPuT8LYZNRQ"
      }
    },
    {
      "cell_type": "markdown",
      "source": [
        "##### 2. What is/are the insight(s) found from the chart?\n",
        "\n",
        "* Total stay and the lead time have positive correlation. This may be interpreted that for longer hotel stays, usually people plan in advance.\n",
        "\n",
        "* ADR is positively correlated with total_people, which defines that as more number of people increases more revenue."
      ],
      "metadata": {
        "id": "YPEH6qLeZNRQ"
      }
    },
    {
      "cell_type": "markdown",
      "source": [
        "#### Chart - 9 - Pair Plot"
      ],
      "metadata": {
        "id": "q29F0dvdveiT"
      }
    },
    {
      "cell_type": "code",
      "source": [
        "# Pair Plot visualization code\n",
        "# Length of stay vs adr\n",
        "plt.figure(figsize = (18,9))\n",
        "sns.scatterplot(y = 'adr', x = 'total_stay', data = df1)\n",
        "plt.show()"
      ],
      "metadata": {
        "id": "o58-TEIhveiU"
      },
      "execution_count": null,
      "outputs": []
    },
    {
      "cell_type": "markdown",
      "source": [
        "##### 1. Why did you pick the specific chart?\n",
        "\n"
      ],
      "metadata": {
        "id": "EXh0U9oCveiU"
      }
    },
    {
      "cell_type": "markdown",
      "source": [
        "To understand the effect of total stay on adr, we have choosed scatterplot. However, we notice that there is an outliner in adr, we will remove for better scatterplot."
      ],
      "metadata": {
        "id": "eMmPjTByveiU"
      }
    },
    {
      "cell_type": "code",
      "source": [
        "# We will drop the value which is exceeding ADR 5000 & plot the scatterplot.\n",
        "df1.drop(df1[df1['adr'] > 5000].index, inplace = True)\n",
        "plt.figure(figsize = (18,9))\n",
        "sns.scatterplot(y = 'adr', x = 'total_stay', data = df1)\n",
        "plt.show()"
      ],
      "metadata": {
        "id": "ADo_cEBZ2rHt"
      },
      "execution_count": null,
      "outputs": []
    },
    {
      "cell_type": "markdown",
      "source": [
        "##### 2. What is/are the insight(s) found from the chart?"
      ],
      "metadata": {
        "id": "22aHeOlLveiV"
      }
    },
    {
      "cell_type": "markdown",
      "source": [
        "From the scatter plot, it is clearly visible that length of total_stay increases, adr decreases. Customers who stay for less than 10 days pay more price when compared with the customers who stay for 30 days or more. For longer stay, the better deal for customers."
      ],
      "metadata": {
        "id": "uPQ8RGwHveiV"
      }
    },
    {
      "cell_type": "markdown",
      "source": [
        "## **5. Solution to Business Objective**"
      ],
      "metadata": {
        "id": "JcMwzZxoAimU"
      }
    },
    {
      "cell_type": "markdown",
      "source": [
        "#### What do you suggest the client to achieve Business Objective ?\n"
      ],
      "metadata": {
        "id": "8G2x9gOozGDZ"
      }
    },
    {
      "cell_type": "markdown",
      "source": [
        "* As the peak season is from May to August, with August as the highest booked month, management should consider to utilise staff effectively.\n",
        "* Increase room types A, H inorder to increase adr and maximise profits.\n",
        "* As majority of the customers are from Portugal and western Europe, management should plan marketing activities in those regions respectively.\n",
        "* Most preferred stay in hotels is 3 days, hotel management should introduce loyalty service, offers, tourism package in order to increase the stay of customers and to generate more revenue.\n",
        "* As 30% of bookings from TA/To are cancelled, management should significantly take stpes to increase direct bookings by offering discounts, loyalty service, coupons on direct bookings in order to reduce cancellation and increase revenue.\n",
        "* As the City Hotel has more bookings, it generates more revenue and it has more cancellations as well. Management may consider to provide customers with hourly booking option as most of the customers prefer short stay at City Hotel."
      ],
      "metadata": {
        "id": "pASKb0qOza21"
      }
    },
    {
      "cell_type": "markdown",
      "source": [
        "# **Conclusion**\n",
        "\n"
      ],
      "metadata": {
        "id": "gCX9965dhzqZ"
      }
    },
    {
      "cell_type": "markdown",
      "source": [
        "Conclusions from the data analysis are:"
      ],
      "metadata": {
        "id": "lB7rizIkGejJ"
      }
    },
    {
      "cell_type": "markdown",
      "source": [
        "\n",
        "* Bread & Beakfast (BB) is the most preferred meal type by the customers.\n",
        "* As the City Hotel has more bookings, it generates more revenue and it has more cancellations as well.\n",
        "* Most number of bookings are made in the month of August.\n",
        "* Type A room is the most preferred room by the customers.\n",
        "* People from Portugal has made most number of hotel bookings.\n",
        "* Most preferref customer stay is 1-3 days in the hotels.\n",
        "* Most preferred distribution channel by customers is Travel Agent / Tour Oprator (TA/TO) to make hotel bookings.\n",
        "* Most of the customers prefer City Hotel for shorter stay and Resort Hotel for longer stays.\n"
      ],
      "metadata": {
        "id": "Fjb1IsQkh3yE"
      }
    },
    {
      "cell_type": "markdown",
      "source": [
        "### ***Hurrah! You have successfully completed your EDA Capstone Project !!!***"
      ],
      "metadata": {
        "id": "gIfDvo9L0UH2"
      }
    }
  ]
}